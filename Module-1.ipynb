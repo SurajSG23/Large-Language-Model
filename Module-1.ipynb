{
 "cells": [
  {
   "cell_type": "markdown",
   "id": "e17bd4f9-04c7-49aa-973b-e44a99f1daa4",
   "metadata": {
    "jp-MarkdownHeadingCollapsed": true
   },
   "source": [
    "# Environment Setup\n",
    "\n",
    "conda create --prefix D:\\AI-ML\\LLM\\llms_course_env python=3.11 -y\n",
    "\n",
    "conda activate D:\\AI-ML\\LLM\\llms_course_env\n",
    "\n",
    "conda install -c conda-forge jupyter ipykernel -y\n",
    "\n",
    "python -m ipykernel install --user --name=llms_course_env --display-name \"Python (llms_course_env)\"\n",
    "\n",
    "(D:\\AI-ML\\LLM\\llms_course_env) D:\\AI-ML\\LLM>jupyter notebook\n",
    "\n",
    "In the notebook interface, go to Kernel → Change Kernel → Python (llms_course_env)"
   ]
  },
  {
   "cell_type": "markdown",
   "id": "35655027-9585-4937-8972-db8495d7502d",
   "metadata": {},
   "source": [
    "# OpenAI Setup"
   ]
  },
  {
   "cell_type": "code",
   "execution_count": 6,
   "id": "90ef5c7c-02f1-45ac-a28b-db130d61531a",
   "metadata": {},
   "outputs": [],
   "source": [
    "import os\n",
    "import certifi\n",
    "from openai import OpenAI\n",
    "import config"
   ]
  },
  {
   "cell_type": "code",
   "execution_count": 7,
   "id": "dd72be12-abe0-4a7d-aa96-5cc99b46a214",
   "metadata": {},
   "outputs": [],
   "source": [
    "# Fix SSL verification issues\n",
    "os.environ[\"SSL_CERT_FILE\"] = certifi.where()"
   ]
  },
  {
   "cell_type": "code",
   "execution_count": 8,
   "id": "c4ee4543-9f3e-43a2-97b0-8731646d4b4e",
   "metadata": {},
   "outputs": [],
   "source": [
    "# Initialize client correctly\n",
    "client = OpenAI(api_key=config.api_key)"
   ]
  },
  {
   "cell_type": "code",
   "execution_count": 9,
   "id": "5766dc5a-c981-4b7f-a9d8-84ccb96a2f4a",
   "metadata": {},
   "outputs": [],
   "source": [
    "def generate_text(prompt):\n",
    "    response = client.chat.completions.create(\n",
    "        model=\"gpt-3.5-turbo\",\n",
    "        messages=[{\"role\": \"user\", \"content\": prompt}],\n",
    "        max_tokens=10,\n",
    "        temperature=0.7\n",
    "    )\n",
    "    return response.choices[0].message.content.strip()"
   ]
  },
  {
   "cell_type": "markdown",
   "id": "c3ab2b5e-a981-4947-8894-00cf742bbdf2",
   "metadata": {},
   "source": [
    "### Gemini AI "
   ]
  },
  {
   "cell_type": "code",
   "execution_count": 4,
   "id": "b02c1186-c45b-4c92-8405-0ff9e87c78fc",
   "metadata": {},
   "outputs": [],
   "source": [
    "import os\n",
    "import google.generativeai as genai\n",
    "import config "
   ]
  },
  {
   "cell_type": "code",
   "execution_count": 5,
   "id": "1c186b68-ad17-4fbb-b4fd-a391d9ced089",
   "metadata": {},
   "outputs": [],
   "source": [
    "# Configure Gemini API\n",
    "genai.configure(api_key=config.gemini_api_key)\n",
    "\n",
    "# Initialize model\n",
    "model = genai.GenerativeModel(\"gemini-2.0-flash\")"
   ]
  },
  {
   "cell_type": "code",
   "execution_count": 40,
   "id": "feef2254-a589-416a-9637-448a93eeb266",
   "metadata": {},
   "outputs": [],
   "source": [
    "def generate_text(prompt):\n",
    "    response = model.generate_content(\n",
    "        prompt,\n",
    "        generation_config={\n",
    "            \"temperature\": 0.8,\n",
    "            \"max_output_tokens\": 10\n",
    "        } \n",
    "    )\n",
    "    return response.text.strip()"
   ]
  },
  {
   "cell_type": "code",
   "execution_count": 41,
   "id": "bf8eec7f-674f-4ea3-9c08-3889b24f692d",
   "metadata": {},
   "outputs": [
    {
     "name": "stdout",
     "output_type": "stream",
     "text": [
      "Leonardo da Vinci painted the Mona Lisa.\n"
     ]
    }
   ],
   "source": [
    "prompt = \"Who painted Mona Lisa?\"\n",
    "print(generate_text(prompt))"
   ]
  },
  {
   "cell_type": "code",
   "execution_count": null,
   "id": "a36924a5-c616-406f-b64f-2769df1c9dd3",
   "metadata": {},
   "outputs": [],
   "source": []
  }
 ],
 "metadata": {
  "kernelspec": {
   "display_name": "Python (llms_course_env)",
   "language": "python",
   "name": "llms_course_env"
  },
  "language_info": {
   "codemirror_mode": {
    "name": "ipython",
    "version": 3
   },
   "file_extension": ".py",
   "mimetype": "text/x-python",
   "name": "python",
   "nbconvert_exporter": "python",
   "pygments_lexer": "ipython3",
   "version": "3.11.13"
  }
 },
 "nbformat": 4,
 "nbformat_minor": 5
}
