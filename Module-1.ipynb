{
 "cells": [
  {
   "cell_type": "markdown",
   "id": "e17bd4f9-04c7-49aa-973b-e44a99f1daa4",
   "metadata": {
    "jp-MarkdownHeadingCollapsed": true
   },
   "source": [
    "# Environment Setup\n",
    "\n",
    "conda create --prefix D:\\AI-ML\\LLM\\llms_course_env python=3.11 -y\n",
    "\n",
    "conda activate D:\\AI-ML\\LLM\\llms_course_env\n",
    "\n",
    "conda install -c conda-forge jupyter ipykernel -y\n",
    "\n",
    "python -m ipykernel install --user --name=llms_course_env --display-name \"Python (llms_course_env)\"\n",
    "\n",
    "(D:\\AI-ML\\LLM\\llms_course_env) D:\\AI-ML\\LLM>jupyter notebook\n",
    "\n",
    "In the notebook interface, go to Kernel → Change Kernel → Python (llms_course_env)"
   ]
  },
  {
   "cell_type": "markdown",
   "id": "35655027-9585-4937-8972-db8495d7502d",
   "metadata": {},
   "source": [
    "# OpenAI Setup"
   ]
  },
  {
   "cell_type": "code",
   "execution_count": 1,
   "id": "90ef5c7c-02f1-45ac-a28b-db130d61531a",
   "metadata": {},
   "outputs": [],
   "source": [
    "import os\n",
    "import certifi\n",
    "from openai import OpenAI\n",
    "import config"
   ]
  },
  {
   "cell_type": "code",
   "execution_count": 2,
   "id": "dd72be12-abe0-4a7d-aa96-5cc99b46a214",
   "metadata": {},
   "outputs": [],
   "source": [
    "# Fix SSL verification issues\n",
    "os.environ[\"SSL_CERT_FILE\"] = certifi.where()"
   ]
  },
  {
   "cell_type": "code",
   "execution_count": 3,
   "id": "c4ee4543-9f3e-43a2-97b0-8731646d4b4e",
   "metadata": {},
   "outputs": [],
   "source": [
    "# Initialize client correctly\n",
    "client = OpenAI(api_key=config.api_key)"
   ]
  },
  {
   "cell_type": "code",
   "execution_count": 4,
   "id": "5766dc5a-c981-4b7f-a9d8-84ccb96a2f4a",
   "metadata": {},
   "outputs": [],
   "source": [
    "def generate_text(prompt):\n",
    "    response = client.chat.completions.create(\n",
    "        model=\"gpt-3.5-turbo\",\n",
    "        messages=[{\"role\": \"user\", \"content\": prompt}],\n",
    "        max_tokens=10,\n",
    "        temperature=0.7\n",
    "    )\n",
    "    return response.choices[0].message.content.strip()"
   ]
  },
  {
   "cell_type": "code",
   "execution_count": null,
   "id": "acd83a82-4a1e-4b5d-95e8-d63a3031fd6d",
   "metadata": {},
   "outputs": [],
   "source": [
    "prompt = \"Who painted Mona Lisa?\"\n",
    "print(f\"Mona Lisa was painted by {generate_text(prompt)}\")"
   ]
  }
 ],
 "metadata": {
  "kernelspec": {
   "display_name": "Python (llms_course_env)",
   "language": "python",
   "name": "llms_course_env"
  },
  "language_info": {
   "codemirror_mode": {
    "name": "ipython",
    "version": 3
   },
   "file_extension": ".py",
   "mimetype": "text/x-python",
   "name": "python",
   "nbconvert_exporter": "python",
   "pygments_lexer": "ipython3",
   "version": "3.11.13"
  }
 },
 "nbformat": 4,
 "nbformat_minor": 5
}
