{
 "cells": [
  {
   "cell_type": "markdown",
   "id": "e8bb5b11-1a33-4b66-aadd-c2de0cb25c2d",
   "metadata": {},
   "source": [
    "# Huggingface transformers"
   ]
  },
  {
   "cell_type": "code",
   "execution_count": 5,
   "id": "54bf1768-9917-4bfc-8bb6-06363792cdb8",
   "metadata": {
    "scrolled": true
   },
   "outputs": [],
   "source": [
    "from transformers import pipeline"
   ]
  },
  {
   "cell_type": "markdown",
   "id": "d05848dc-d973-4ed7-b290-5d8e5a819da8",
   "metadata": {},
   "source": [
    "**setx TRANSFORMERS_CACHE \"D:\\AI-ML\\transformers_cache\"**\n",
    "\n",
    "Changes the path where all the models will be downloaded, run it in cmd"
   ]
  },
  {
   "cell_type": "code",
   "execution_count": 6,
   "id": "a7f4cf64-54ac-4f88-8471-fce6d39305e2",
   "metadata": {},
   "outputs": [
    {
     "name": "stderr",
     "output_type": "stream",
     "text": [
      "No model was supplied, defaulted to distilbert/distilbert-base-uncased-finetuned-sst-2-english and revision 714eb0f (https://huggingface.co/distilbert/distilbert-base-uncased-finetuned-sst-2-english).\n",
      "Using a pipeline without specifying a model name and revision in production is not recommended.\n",
      "Device set to use cpu\n"
     ]
    },
    {
     "name": "stdout",
     "output_type": "stream",
     "text": [
      "[{'label': 'POSITIVE', 'score': 0.9997096657752991}]\n",
      "[{'label': 'NEGATIVE', 'score': 0.9978690147399902}]\n"
     ]
    }
   ],
   "source": [
    "#sentiment analysis\n",
    "sentiment_classifier = pipeline(\"sentiment-analysis\") # Default model will be used\n",
    "\n",
    "print(sentiment_classifier(\"I'm so excited to be learning about large language models\"))\n",
    "print(sentiment_classifier(\"I'm so confused right now\"))"
   ]
  },
  {
   "cell_type": "code",
   "execution_count": 7,
   "id": "da4cd73a-0585-4344-ba92-35bdc61c136b",
   "metadata": {},
   "outputs": [
    {
     "name": "stderr",
     "output_type": "stream",
     "text": [
      "Some weights of the model checkpoint at dslim/bert-base-NER were not used when initializing BertForTokenClassification: ['bert.pooler.dense.bias', 'bert.pooler.dense.weight']\n",
      "- This IS expected if you are initializing BertForTokenClassification from the checkpoint of a model trained on another task or with another architecture (e.g. initializing a BertForSequenceClassification model from a BertForPreTraining model).\n",
      "- This IS NOT expected if you are initializing BertForTokenClassification from the checkpoint of a model that you expect to be exactly identical (initializing a BertForSequenceClassification model from a BertForSequenceClassification model).\n",
      "Device set to use cpu\n"
     ]
    },
    {
     "name": "stdout",
     "output_type": "stream",
     "text": [
      "Anna :  B-PER\n",
      "New :  B-LOC\n",
      "York :  I-LOC\n",
      "City :  I-LOC\n",
      "Morgan :  B-ORG\n",
      "Stanley :  I-ORG\n"
     ]
    }
   ],
   "source": [
    "# Name entity relation\n",
    "ner = pipeline(\"ner\", model = \"dslim/bert-base-NER\") # Mention a particular model\n",
    "\n",
    "ner_list = ner(\"Her name is Anna and she works in New York City for Morgan Stanley\")\n",
    "\n",
    "for item in ner_list:\n",
    "    print(item[\"word\"], \": \", item[\"entity\"])"
   ]
  },
  {
   "cell_type": "code",
   "execution_count": 8,
   "id": "cd6218b7-2406-430d-b48f-4156088ec943",
   "metadata": {},
   "outputs": [
    {
     "name": "stderr",
     "output_type": "stream",
     "text": [
      "Device set to use cpu\n"
     ]
    },
    {
     "data": {
      "text/plain": [
       "{'sequence': 'one day I will see the world',\n",
       " 'labels': ['travel', 'dancing', 'cooking'],\n",
       " 'scores': [0.9938651919364929, 0.0032738028094172478, 0.002861030399799347]}"
      ]
     },
     "execution_count": 8,
     "metadata": {},
     "output_type": "execute_result"
    }
   ],
   "source": [
    "# zero-shot-classification - model will be able to perform a task without any additional training, general pre trained knowledge is enough\n",
    "zeroshot_classifier = pipeline(\"zero-shot-classification\", model = \"facebook/bart-large-mnli\")\n",
    "\n",
    "sequence_to_classify = \"one day I will see the world\"\n",
    "candidate_labels = ['travel', 'cooking', 'dancing']\n",
    "\n",
    "zeroshot_classifier(sequence_to_classify, candidate_labels)"
   ]
  },
  {
   "cell_type": "markdown",
   "id": "1727507e-1b3d-49f1-a90c-3797c85cb760",
   "metadata": {},
   "source": [
    "{'sequence': 'one day I will see the world', \\\n",
    " 'labels': ['travel', 'dancing', 'cooking'], \\\n",
    " 'scores': [0.9938651919364929, 0.0032737581059336662, 0.0028610501904040575]}"
   ]
  },
  {
   "cell_type": "markdown",
   "id": "f0a8fe3b-bc99-4f89-82b8-60b59f330682",
   "metadata": {},
   "source": [
    "# Pre-trained Tokeniser"
   ]
  },
  {
   "cell_type": "code",
   "execution_count": 9,
   "id": "7ffd911b-d0a5-4ffa-bc41-8077b158c2fb",
   "metadata": {},
   "outputs": [],
   "source": [
    "from transformers import AutoTokenizer"
   ]
  },
  {
   "cell_type": "code",
   "execution_count": 10,
   "id": "97bc7674-18ad-4f8d-969f-6e4285624e87",
   "metadata": {},
   "outputs": [],
   "source": [
    "# bert-base-uncased\n",
    "tokenizer = AutoTokenizer.from_pretrained(\"bert-base-uncased\")\n",
    "\n",
    "sentence = \"I'm so excited to be learning about large language models\""
   ]
  },
  {
   "cell_type": "code",
   "execution_count": 11,
   "id": "409aa51b-e478-464f-aea0-84efa37b0984",
   "metadata": {},
   "outputs": [
    {
     "name": "stdout",
     "output_type": "stream",
     "text": [
      "{'input_ids': [101, 1045, 1005, 1049, 2061, 7568, 2000, 2022, 4083, 2055, 2312, 2653, 4275, 102], 'token_type_ids': [0, 0, 0, 0, 0, 0, 0, 0, 0, 0, 0, 0, 0, 0], 'attention_mask': [1, 1, 1, 1, 1, 1, 1, 1, 1, 1, 1, 1, 1, 1]}\n"
     ]
    }
   ],
   "source": [
    "input_ids = tokenizer(sentence)\n",
    "print(input_ids)"
   ]
  },
  {
   "cell_type": "code",
   "execution_count": 12,
   "id": "0869a55b-6ba3-40b0-8182-06d9819d11d1",
   "metadata": {},
   "outputs": [
    {
     "name": "stdout",
     "output_type": "stream",
     "text": [
      "['i', \"'\", 'm', 'so', 'excited', 'to', 'be', 'learning', 'about', 'large', 'language', 'models']\n"
     ]
    }
   ],
   "source": [
    "tokens = tokenizer.tokenize(sentence)\n",
    "\n",
    "print(tokens)"
   ]
  },
  {
   "cell_type": "code",
   "execution_count": 13,
   "id": "8a97887e-90b9-46f3-ba81-216b30efa12d",
   "metadata": {},
   "outputs": [
    {
     "name": "stdout",
     "output_type": "stream",
     "text": [
      "[1045, 1005, 1049, 2061, 7568, 2000, 2022, 4083, 2055, 2312, 2653, 4275]\n"
     ]
    }
   ],
   "source": [
    "token_ids = tokenizer.convert_tokens_to_ids(tokens)\n",
    "\n",
    "print(token_ids)"
   ]
  },
  {
   "cell_type": "code",
   "execution_count": 14,
   "id": "1a0a1195-62cc-4734-b919-8c897824cd53",
   "metadata": {},
   "outputs": [
    {
     "name": "stdout",
     "output_type": "stream",
     "text": [
      "i ' m so excited to be learning about large language models\n"
     ]
    }
   ],
   "source": [
    "decoded_ids = tokenizer.decode(token_ids)\n",
    "\n",
    "print(decoded_ids)"
   ]
  },
  {
   "cell_type": "code",
   "execution_count": 15,
   "id": "ace72b9a-f006-48d7-b0eb-b18b288f0b64",
   "metadata": {},
   "outputs": [
    {
     "data": {
      "text/plain": [
       "'[CLS]'"
      ]
     },
     "execution_count": 15,
     "metadata": {},
     "output_type": "execute_result"
    }
   ],
   "source": [
    "tokenizer.decode(101)"
   ]
  },
  {
   "cell_type": "code",
   "execution_count": 16,
   "id": "839d70cd-798e-4106-9a82-cd7122b47a2a",
   "metadata": {},
   "outputs": [
    {
     "data": {
      "text/plain": [
       "'[SEP]'"
      ]
     },
     "execution_count": 16,
     "metadata": {},
     "output_type": "execute_result"
    }
   ],
   "source": [
    "tokenizer.decode(102)"
   ]
  },
  {
   "cell_type": "code",
   "execution_count": 17,
   "id": "bd2359d7-532c-479d-b1e0-27bdbde068f9",
   "metadata": {},
   "outputs": [],
   "source": [
    "# xlnet-base-cased\n",
    "tokenizer2 = AutoTokenizer.from_pretrained(\"xlnet-base-cased\")"
   ]
  },
  {
   "cell_type": "code",
   "execution_count": 18,
   "id": "d50ec97b-65eb-4333-b8b2-7225cfeb538a",
   "metadata": {},
   "outputs": [
    {
     "name": "stdout",
     "output_type": "stream",
     "text": [
      "{'input_ids': [35, 26, 98, 102, 5564, 22, 39, 1899, 75, 392, 1243, 2626, 4, 3], 'token_type_ids': [0, 0, 0, 0, 0, 0, 0, 0, 0, 0, 0, 0, 0, 2], 'attention_mask': [1, 1, 1, 1, 1, 1, 1, 1, 1, 1, 1, 1, 1, 1]}\n"
     ]
    }
   ],
   "source": [
    "input_ids = tokenizer2(sentence)\n",
    "\n",
    "print(input_ids)"
   ]
  },
  {
   "cell_type": "code",
   "execution_count": 19,
   "id": "2344ef2b-03f8-4632-9ebb-5a4ad07ed552",
   "metadata": {},
   "outputs": [
    {
     "name": "stdout",
     "output_type": "stream",
     "text": [
      "['▁I', \"'\", 'm', '▁so', '▁excited', '▁to', '▁be', '▁learning', '▁about', '▁large', '▁language', '▁models']\n"
     ]
    }
   ],
   "source": [
    "tokens = tokenizer2.tokenize(sentence)\n",
    "\n",
    "print(tokens)"
   ]
  },
  {
   "cell_type": "code",
   "execution_count": 20,
   "id": "268ac77f-0bc3-4d98-a6a1-465a9a5a2047",
   "metadata": {},
   "outputs": [
    {
     "name": "stdout",
     "output_type": "stream",
     "text": [
      "[35, 26, 98, 102, 5564, 22, 39, 1899, 75, 392, 1243, 2626]\n"
     ]
    }
   ],
   "source": [
    "token_ids = tokenizer2.convert_tokens_to_ids(tokens)\n",
    "\n",
    "print(token_ids)"
   ]
  },
  {
   "cell_type": "code",
   "execution_count": 21,
   "id": "59e3a499-613e-4b05-9177-8f6048da8b81",
   "metadata": {},
   "outputs": [
    {
     "name": "stdout",
     "output_type": "stream",
     "text": [
      "I'm so excited to be learning about large language models\n"
     ]
    }
   ],
   "source": [
    "decoded_ids = tokenizer2.decode(token_ids)\n",
    "\n",
    "print(decoded_ids)"
   ]
  },
  {
   "cell_type": "code",
   "execution_count": 22,
   "id": "e33bf2d9-aab9-4657-88f3-5b3edd94a564",
   "metadata": {},
   "outputs": [
    {
     "data": {
      "text/plain": [
       "'<sep>'"
      ]
     },
     "execution_count": 22,
     "metadata": {},
     "output_type": "execute_result"
    }
   ],
   "source": [
    "tokenizer2.decode(4)"
   ]
  },
  {
   "cell_type": "code",
   "execution_count": 23,
   "id": "4efde994-44df-44bf-b351-93123ca50dcd",
   "metadata": {},
   "outputs": [
    {
     "data": {
      "text/plain": [
       "'<cls>'"
      ]
     },
     "execution_count": 23,
     "metadata": {},
     "output_type": "execute_result"
    }
   ],
   "source": [
    "tokenizer2.decode(3)"
   ]
  },
  {
   "cell_type": "markdown",
   "id": "2e1cb52a-a40c-4861-b0a5-dcda329a6b65",
   "metadata": {},
   "source": [
    "###  **CLS and SEP (classification and separator)**\n",
    "\n",
    "* **CLS token** → A special tag put at the **start of the text**.\n",
    "  The model uses this to understand and decide the overall meaning (e.g., for classification).\n",
    "* **SEP token** → A special tag used to **separate pieces of text** (like when you give two sentences and want the model to compare them).\n",
    "\n",
    "Example:\n",
    "`[CLS] I like cats [SEP] I like dogs [SEP]`\n",
    "\n",
    "---\n",
    "\n",
    "### **MASK**\n",
    "\n",
    "* A special placeholder used when we hide a word and ask the model to **guess it**.\n",
    "* Helps the model learn language patterns.\n",
    "\n",
    "Example:\n",
    "`I like [MASK]` → model should predict: `pizza`.\n",
    "\n",
    "---\n",
    "\n",
    "### **Task-specific tokens**\n",
    "\n",
    "* Sometimes we create **custom tags** for special jobs.\n",
    "* Example: In translation, you might add `[SOURCE]` before the input language and `[TARGET]` before the output language so the model knows what to do.\n",
    "\n",
    "Example:\n",
    "`[SOURCE] I like cats [TARGET] J’aime les chats`\n",
    "\n",
    "---\n",
    "\n",
    "So in short:\n",
    "\n",
    "* **CLS** → Start marker for classification.\n",
    "* **SEP** → Divider between sentences.\n",
    "* **MASK** → Blank to fill in.\n",
    "* **Task tokens** → Special tags to tell the model what job it has.\n",
    "\n",
    "---"
   ]
  },
  {
   "cell_type": "markdown",
   "id": "8b48b07d-1633-4139-bf43-a89bb8e85c2e",
   "metadata": {},
   "source": [
    "# Hugging Face and PyTorch/TensorFlow"
   ]
  },
  {
   "cell_type": "code",
   "execution_count": 24,
   "id": "3c2fa995-38d0-4731-986f-b52deb153eb9",
   "metadata": {},
   "outputs": [],
   "source": [
    "from transformers import AutoTokenizer, AutoModelForSequenceClassification\n",
    "import torch"
   ]
  },
  {
   "cell_type": "code",
   "execution_count": 25,
   "id": "c92a31aa-de76-44f3-807e-08421e2a3cac",
   "metadata": {},
   "outputs": [
    {
     "name": "stdout",
     "output_type": "stream",
     "text": [
      "I'm so excited to be learning about large language models\n",
      "{'input_ids': [35, 26, 98, 102, 5564, 22, 39, 1899, 75, 392, 1243, 2626, 4, 3], 'token_type_ids': [0, 0, 0, 0, 0, 0, 0, 0, 0, 0, 0, 0, 0, 2], 'attention_mask': [1, 1, 1, 1, 1, 1, 1, 1, 1, 1, 1, 1, 1, 1]}\n"
     ]
    }
   ],
   "source": [
    "print(sentence)\n",
    "print(input_ids)"
   ]
  },
  {
   "cell_type": "code",
   "execution_count": 35,
   "id": "ca88dc6b-afe2-4937-84fb-1b43fe608931",
   "metadata": {},
   "outputs": [
    {
     "name": "stdout",
     "output_type": "stream",
     "text": [
      "{'input_ids': tensor([[ 101, 1045, 1005, 1049, 2061, 7568, 2000, 2022, 4083, 2055, 2312, 2653,\n",
      "         4275,  102]]), 'attention_mask': tensor([[1, 1, 1, 1, 1, 1, 1, 1, 1, 1, 1, 1, 1, 1]])}\n"
     ]
    }
   ],
   "source": [
    "# Load a pretrained tokenizer for DistilBERT\n",
    "# - \"distilbert-base-uncased-finetuned-sst-2-english\" is a model fine-tuned for sentiment analysis (positive/negative).\n",
    "tokenizer = AutoTokenizer.from_pretrained(\"distilbert-base-uncased-finetuned-sst-2-english\")\n",
    "\n",
    "# Convert your input sentence into token IDs (numbers that represent words/subwords)\n",
    "# - `return_tensors=\"pt\"` means return the result as PyTorch tensors (pt = PyTorch).\n",
    "# - The tokenizer will:\n",
    "#   1. Lowercase and split your text into subwords (since it's uncased BERT).\n",
    "#   2. Add special tokens like [CLS] at the start and [SEP] at the end.\n",
    "#   3. Convert words/subwords into their numeric IDs using the model's vocabulary.\n",
    "#   4. Return a dictionary containing 'input_ids' (the token numbers) and 'attention_mask' (which tells the model which tokens are real vs padding).\n",
    "input_ids_pt = tokenizer(sentence, return_tensors=\"pt\")\n",
    "\n",
    "# Print the encoded representation (PyTorch tensors with token IDs and attention mask)\n",
    "print(input_ids_pt)"
   ]
  },
  {
   "cell_type": "code",
   "execution_count": 37,
   "id": "3ef481d3-b140-48dc-ad7e-c2f5849d0389",
   "metadata": {},
   "outputs": [
    {
     "data": {
      "text/plain": [
       "'POSITIVE'"
      ]
     },
     "execution_count": 37,
     "metadata": {},
     "output_type": "execute_result"
    }
   ],
   "source": [
    "# Load the pretrained DistilBERT model that is fine-tuned for sentiment analysis\n",
    "# (binary classification: positive or negative sentiment).\n",
    "model = AutoModelForSequenceClassification.from_pretrained(\n",
    "    \"distilbert-base-uncased-finetuned-sst-2-english\"\n",
    ")\n",
    "\n",
    "# Turn off gradient tracking since we're only doing inference (not training).\n",
    "# This makes it faster and saves memory.\n",
    "with torch.no_grad():\n",
    "    # Pass the tokenized inputs (input_ids, attention_mask) into the model.\n",
    "    # The model returns a dictionary; we extract 'logits'.\n",
    "    # - logits are raw, unnormalized predictions (before softmax).\n",
    "    logits = model(**input_ids_pt).logits\n",
    "\n",
    "# Find the index (class ID) of the highest logit value.\n",
    "# This corresponds to the model's predicted class.\n",
    "predicted_class_id = logits.argmax().item()\n",
    "\n",
    "# Convert that class ID to a human-readable label using the model’s config.\n",
    "# For this model, labels are typically:\n",
    "#   0 -> NEGATIVE\n",
    "#   1 -> POSITIVE\n",
    "model.config.id2label[predicted_class_id]"
   ]
  },
  {
   "cell_type": "markdown",
   "id": "1216cdb7-f922-473f-a002-dd22634b3617",
   "metadata": {},
   "source": [
    "# Saving and loading models"
   ]
  },
  {
   "cell_type": "code",
   "execution_count": 38,
   "id": "85e13b4c-15c6-43d2-b6a1-7e55fb4480c1",
   "metadata": {},
   "outputs": [],
   "source": [
    "model_directory = \"my_saved_models\""
   ]
  },
  {
   "cell_type": "code",
   "execution_count": 39,
   "id": "15e98010-f56a-43dc-b636-7e3d752350fa",
   "metadata": {},
   "outputs": [
    {
     "data": {
      "text/plain": [
       "('my_saved_models\\\\tokenizer_config.json',\n",
       " 'my_saved_models\\\\special_tokens_map.json',\n",
       " 'my_saved_models\\\\vocab.txt',\n",
       " 'my_saved_models\\\\added_tokens.json',\n",
       " 'my_saved_models\\\\tokenizer.json')"
      ]
     },
     "execution_count": 39,
     "metadata": {},
     "output_type": "execute_result"
    }
   ],
   "source": [
    "tokenizer.save_pretrained(model_directory)"
   ]
  },
  {
   "cell_type": "code",
   "execution_count": 40,
   "id": "c867e79d-648b-47b0-8e60-8f12746554a1",
   "metadata": {},
   "outputs": [],
   "source": [
    "model.save_pretrained(model_directory)"
   ]
  },
  {
   "cell_type": "code",
   "execution_count": 41,
   "id": "d16ecb25-91b5-4c98-a684-5459f7acf135",
   "metadata": {},
   "outputs": [],
   "source": [
    "my_tokenizer = AutoTokenizer.from_pretrained(model_directory)"
   ]
  },
  {
   "cell_type": "code",
   "execution_count": 42,
   "id": "0bccab79-6f8b-4eb0-b572-73bf49e7f60d",
   "metadata": {},
   "outputs": [],
   "source": [
    "my_model = AutoModelForSequenceClassification.from_pretrained(model_directory)"
   ]
  }
 ],
 "metadata": {
  "kernelspec": {
   "display_name": "Python (llms_course_env)",
   "language": "python",
   "name": "llms_course_env"
  },
  "language_info": {
   "codemirror_mode": {
    "name": "ipython",
    "version": 3
   },
   "file_extension": ".py",
   "mimetype": "text/x-python",
   "name": "python",
   "nbconvert_exporter": "python",
   "pygments_lexer": "ipython3",
   "version": "3.11.13"
  }
 },
 "nbformat": 4,
 "nbformat_minor": 5
}
